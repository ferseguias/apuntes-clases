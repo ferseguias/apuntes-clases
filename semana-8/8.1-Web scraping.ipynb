{
 "cells": [
  {
   "cell_type": "markdown",
   "id": "440f7ee5",
   "metadata": {
    "toc": true
   },
   "source": [
    "<h1>Table of Contents<span class=\"tocSkip\"></span></h1>\n",
    "<div class=\"toc\"><ul class=\"toc-item\"><li><span><a href=\"#HTML,-qué-es\" data-toc-modified-id=\"HTML,-qué-es-1\"><span class=\"toc-item-num\">1&nbsp;&nbsp;</span>HTML, qué es</a></span><ul class=\"toc-item\"><li><span><a href=\"#Tags\" data-toc-modified-id=\"Tags-1.1\"><span class=\"toc-item-num\">1.1&nbsp;&nbsp;</span>Tags</a></span></li><li><span><a href=\"#Atributos\" data-toc-modified-id=\"Atributos-1.2\"><span class=\"toc-item-num\">1.2&nbsp;&nbsp;</span>Atributos</a></span></li></ul></li><li><span><a href=\"#Beautiful-soup\" data-toc-modified-id=\"Beautiful-soup-2\"><span class=\"toc-item-num\">2&nbsp;&nbsp;</span>Beautiful soup</a></span></li><li><span><a href=\"#Diferencia-entre-find_all()-y-select()\" data-toc-modified-id=\"Diferencia-entre-find_all()-y-select()-3\"><span class=\"toc-item-num\">3&nbsp;&nbsp;</span>Diferencia entre find_all() y select()</a></span><ul class=\"toc-item\"><li><span><a href=\"#find_all-o-findAll()\" data-toc-modified-id=\"find_all-o-findAll()-3.1\"><span class=\"toc-item-num\">3.1&nbsp;&nbsp;</span><code>find_all</code> o <code>findAll()</code></a></span></li><li><span><a href=\"#select()\" data-toc-modified-id=\"select()-3.2\"><span class=\"toc-item-num\">3.2&nbsp;&nbsp;</span><code>select()</code></a></span></li></ul></li><li><span><a href=\"#Ejemplo-1:-Página-de-zapatillas-de-baloncesto\" data-toc-modified-id=\"Ejemplo-1:-Página-de-zapatillas-de-baloncesto-4\"><span class=\"toc-item-num\">4&nbsp;&nbsp;</span>Ejemplo 1: Página de zapatillas de baloncesto</a></span></li><li><span><a href=\"#Ejemplo-2:--wikipedia-medallero\" data-toc-modified-id=\"Ejemplo-2:--wikipedia-medallero-5\"><span class=\"toc-item-num\">5&nbsp;&nbsp;</span>Ejemplo 2:  wikipedia medallero</a></span></li></ul></div>"
   ]
  },
  {
   "cell_type": "markdown",
   "id": "f47ff4a6",
   "metadata": {},
   "source": [
    "## HTML, qué es"
   ]
  },
  {
   "cell_type": "markdown",
   "id": "4c7c7d21",
   "metadata": {},
   "source": [
    "\n",
    "El código HTML se compone de contenido `<etiquetado>`      \n",
    "HTML tiene una estructura jeárquica: parent tags, children tags, sibling tags:     \n",
    "\n",
    "```\n",
    "<html>\n",
    "    <head>\n",
    "        <title>Page Title</title>\n",
    "    </head>\n",
    "    <body>\n",
    "        <h1>My First Heading</h1>\n",
    "        <p>My first paragraph.</p>\n",
    "    </body>\n",
    "</html>\n",
    "```"
   ]
  },
  {
   "cell_type": "markdown",
   "id": "45f4fc6f",
   "metadata": {},
   "source": [
    "### Tags\n",
    "\n",
    "Las etiquetas pueden clasificarse en diferentes grupos, en función del tipo de contenido que se espera que posean\n",
    " * heading: `<h1>`, `<h2>`, `<h3>`, `<hgroup>`...\n",
    " * phrasing: `<b>`, `<sub>`...\n",
    " * embedded: `<audio>`, `<img>`, `<video>`...\n",
    " * tabulated: `<table>`, `<tr>`, `<tbody>`...\n",
    " * sections: `<header>`, `<section>`, `<article>`...\n",
    " * metadata: `<meta>`, `<title>`, `<script>`..."
   ]
  },
  {
   "cell_type": "markdown",
   "id": "aaa31f84",
   "metadata": {},
   "source": [
    "### Atributos\n",
    "\n",
    "Las etiquetas HTML pueden contener uno o más atributos. Los atributos se agregan a una etiqueta para proporcionar al navegador más información sobre cómo debe aparecer o comportarse la etiqueta. Los atributos constan de un nombre y un valor separados por un signo igual (=), con el valor entre comillas dobles. Aquí hay un ejemplo style=\"color:black\"\n",
    "\n",
    "Este es un ejemplo de cómo agregar dos atributos al elemento <a> (que se usa para crear un hipervínculo a otra página web).\n",
    "\n",
    "```htlm\n",
    "<a href=\"https://htmldesdecero.es\" title=\"Los mejores tutoriales HTML!\">HTML desde Cero</a>\n",
    "```\n",
    "\n",
    "El atributo `href` especifica la ubicación/dirección de la página web a la que estamos vinculando.\n",
    "\n",
    "También utilizamos el atributo `title` para proporcionar un texto de consulta, en caso de que el usuario no lo supiera…\n",
    "\n",
    "    \n",
    "Lista de los atributos más usados en HTML\n",
    "\n",
    "- Id =” ”: Para identificar un elemento único.\n",
    "\n",
    "\n",
    "- class =” ”: Identificador múltiple.\n",
    "\n",
    "\n",
    "- align =” ”: Alineación de contenido.\n",
    "\n",
    "\n",
    "- border =” ”: Para darle borde al contenido.\n",
    "\n",
    "\n",
    "- style =” ”: Para darle un estilo al contenido.\n",
    "\n",
    "\n",
    "- background-color =” ”: Para color de fondo.\n",
    "\n",
    "\n",
    "- href =” ”: Para enlaces html.\n",
    "\n",
    "\n",
    "- height =” ”: Para determinar altura.\n",
    "\n",
    "\n",
    "- width =” ”: Para determinar ancho.\n",
    "\n",
    "\n",
    "- src=“ ”: Para imágenes."
   ]
  },
  {
   "cell_type": "markdown",
   "id": "49eea615",
   "metadata": {},
   "source": [
    "## Beautiful soup\n",
    "“Si sólo tratas de sacar datos de una web. Beautiful Soup está aquí para ayudar “.\n",
    "\n",
    "Ya sabeis, para entender como funciona una librería tenemos que leer la documentación.  [Aquí](https://www.crummy.com/software/BeautifulSoup/bs4/doc/) teneís la documentación de Beautiful Soup\n",
    "\n",
    "Beautiful Soup es una librería Python para obtener datos de HTML, XML y otros lenguajes de marcado. \n",
    "\n",
    "Beautiful Soup nos va a ayudar a extraer contenido particular de una página web, guardar la información e incluso la podemos gurdar.\n"
   ]
  },
  {
   "cell_type": "markdown",
   "id": "47175026",
   "metadata": {},
   "source": [
    "## Diferencia entre find_all() y select()"
   ]
  },
  {
   "cell_type": "markdown",
   "id": "14821c94",
   "metadata": {},
   "source": [
    "### `find_all` o `findAll()`\n",
    "[DOCUMENTACIÓN FINDALL](https://www.crummy.com/software/BeautifulSoup/bs4/doc/#calling-a-tag-is-like-calling-find-all)     \n",
    "\n",
    "\n",
    "El método find_all() escanea todo el documento en busca de resultados, pero a veces sólo se quiere encontrar un resultado. Si sabe que un documento sólo tiene una etiqueta <body>, es una pérdida de tiempo escanear todo el documento en busca de más. En lugar de pasar limit=1 cada vez que llame a find_all, puede utilizar el método find(). "
   ]
  },
  {
   "cell_type": "markdown",
   "id": "601ca835",
   "metadata": {},
   "source": [
    "### `select()`\n",
    "\n",
    "[DOCUMENTACIÓN SELECT](https://www.crummy.com/software/BeautifulSoup/bs4/doc/#css-selectors) \n",
    "\n",
    "\n",
    "BeautifulSoup tiene un método .select() que utiliza el paquete SoupSieve para ejecutar un selector CSS contra un documento analizado y devolver todos los elementos coincidentes. Tag tiene un método similar que ejecuta un selector CSS contra el contenido de una sola etiqueta.\n",
    "\n",
    "(La integración de SoupSieve se añadió en Beautiful Soup 4.7.0.) Las versiones anteriores también tienen el método .select(), pero sólo se soportan los selectores CSS más utilizados. Si instalaste Beautiful Soup a través de pip, SoupSieve fue instalado al mismo tiempo, así que no tienes que hacer nada extra).\n",
    "\n",
    "La documentación de SoupSieve enumera todos los selectores CSS actualmente soportados"
   ]
  },
  {
   "cell_type": "code",
   "execution_count": 423,
   "id": "04913492",
   "metadata": {},
   "outputs": [],
   "source": [
    "# antes de empezar importamos las librerías que vamos a usar. \n",
    "\n",
    "import requests\n",
    "import re\n",
    "import pandas as pd\n",
    "from bs4 import BeautifulSoup"
   ]
  },
  {
   "cell_type": "markdown",
   "id": "ef252dce",
   "metadata": {},
   "source": [
    "## Ejemplo 1: Página de zapatillas de baloncesto"
   ]
  },
  {
   "cell_type": "code",
   "execution_count": 424,
   "id": "ece2bfc5",
   "metadata": {},
   "outputs": [],
   "source": [
    "# vamos a crearnos un diccionario donde luego nos guardaremos todos los resultados de nuestras búsquedas: \n",
    "\n",
    "resultados_zapatillas = {\"producto\":[], \n",
    "                        \"precio_rebajado\": [], \n",
    "                        \"precio_original\": [], \n",
    "                         \"descuento\": [], \n",
    "                        \"enlaces\": []}"
   ]
  },
  {
   "cell_type": "code",
   "execution_count": 425,
   "id": "34e972c4",
   "metadata": {},
   "outputs": [],
   "source": [
    "url = \"https://deportesmoya.es/1585-zapatillas-baloncesto\""
   ]
  },
  {
   "cell_type": "code",
   "execution_count": 426,
   "id": "cb6709f4",
   "metadata": {},
   "outputs": [],
   "source": [
    "# hacemos la request a la página de la que queremos sacar la info\n",
    "\n",
    "html = requests.get(url)"
   ]
  },
  {
   "cell_type": "code",
   "execution_count": 428,
   "id": "fb2cb06c",
   "metadata": {},
   "outputs": [
    {
     "data": {
      "text/plain": [
       "200"
      ]
     },
     "execution_count": 428,
     "metadata": {},
     "output_type": "execute_result"
    }
   ],
   "source": [
    "# vemos si todo ha ido bien\n",
    "\n",
    "html.status_code"
   ]
  },
  {
   "cell_type": "code",
   "execution_count": 430,
   "id": "69b8382e",
   "metadata": {},
   "outputs": [],
   "source": [
    "soup = BeautifulSoup(html.content, \"html.parser\")"
   ]
  },
  {
   "cell_type": "markdown",
   "id": "2f80e23c",
   "metadata": {},
   "source": [
    "Ahora queremos extraer el nombre de los productos: "
   ]
  },
  {
   "cell_type": "code",
   "execution_count": 436,
   "id": "9c8d8fd4",
   "metadata": {},
   "outputs": [],
   "source": [
    "productos = soup.find_all(\"h3\",{\"class\": \"h3 product-title\"})"
   ]
  },
  {
   "cell_type": "code",
   "execution_count": 437,
   "id": "0aad0f7a",
   "metadata": {},
   "outputs": [],
   "source": [
    "#productos"
   ]
  },
  {
   "cell_type": "code",
   "execution_count": 438,
   "id": "b93580a2",
   "metadata": {},
   "outputs": [
    {
     "data": {
      "text/plain": [
       "'Zapatillas baloncesto adidas Deep Threat Primeblue negro jr'"
      ]
     },
     "execution_count": 438,
     "metadata": {},
     "output_type": "execute_result"
    }
   ],
   "source": [
    "productos[0].getText()"
   ]
  },
  {
   "cell_type": "markdown",
   "id": "db97ab68",
   "metadata": {},
   "source": [
    "Algunos métodos que podemos aplicar: "
   ]
  },
  {
   "cell_type": "code",
   "execution_count": 440,
   "id": "64d5592c",
   "metadata": {},
   "outputs": [],
   "source": [
    "# las operaciones que le podemos aplicar a nuestra resultado\n",
    "\n",
    "#dir(productos)"
   ]
  },
  {
   "cell_type": "code",
   "execution_count": 442,
   "id": "cb5eee59",
   "metadata": {},
   "outputs": [
    {
     "data": {
      "text/plain": [
       "{'class': ['h3', 'product-title']}"
      ]
     },
     "execution_count": 442,
     "metadata": {},
     "output_type": "execute_result"
    }
   ],
   "source": [
    "productos[0].attrs"
   ]
  },
  {
   "cell_type": "code",
   "execution_count": 443,
   "id": "c703cd0b",
   "metadata": {},
   "outputs": [
    {
     "data": {
      "text/plain": [
       "'Zapatillas baloncesto adidas Deep Threat Primeblue negro jr'"
      ]
     },
     "execution_count": 443,
     "metadata": {},
     "output_type": "execute_result"
    }
   ],
   "source": [
    "productos[0].getText()"
   ]
  },
  {
   "cell_type": "code",
   "execution_count": 444,
   "id": "07b056f6",
   "metadata": {},
   "outputs": [
    {
     "data": {
      "text/plain": [
       "'Zapatillas baloncesto adidas Deep Threat Primeblue negro jr'"
      ]
     },
     "execution_count": 444,
     "metadata": {},
     "output_type": "execute_result"
    }
   ],
   "source": [
    "# es lo mismo que\n",
    "\n",
    "productos[0].text"
   ]
  },
  {
   "cell_type": "code",
   "execution_count": 445,
   "id": "c2d930ab",
   "metadata": {},
   "outputs": [
    {
     "data": {
      "text/plain": [
       "[<a href=\"https://deportesmoya.es/zapatillas-baloncesto-adidas-deep-threat-primeblue-negro-jr-118983.html#/3533-tallaje_calzado_junior-36_2_3\">Zapatillas baloncesto adidas Deep Threat Primeblue negro jr</a>]"
      ]
     },
     "execution_count": 445,
     "metadata": {},
     "output_type": "execute_result"
    }
   ],
   "source": [
    "productos[0].contents"
   ]
  },
  {
   "cell_type": "markdown",
   "id": "46f19e43",
   "metadata": {},
   "source": [
    "Recordamos que productos es una lista de elementos con todos los nombres de las zapatillas, por lo que tendremos que iterar por la lista. "
   ]
  },
  {
   "cell_type": "code",
   "execution_count": 446,
   "id": "d9a9d9bb",
   "metadata": {},
   "outputs": [],
   "source": [
    "for a in productos: \n",
    "    resultados_zapatillas[\"producto\"].append(a.getText())"
   ]
  },
  {
   "cell_type": "code",
   "execution_count": 447,
   "id": "2c5f0f15",
   "metadata": {},
   "outputs": [
    {
     "data": {
      "text/plain": [
       "['Zapatillas baloncesto adidas Deep Threat Primeblue negro jr',\n",
       " 'Zapatillas baloncesto adidas Harden Stepback 2 lima negro']"
      ]
     },
     "execution_count": 447,
     "metadata": {},
     "output_type": "execute_result"
    }
   ],
   "source": [
    "resultados_zapatillas['producto'][:2]"
   ]
  },
  {
   "cell_type": "code",
   "execution_count": 448,
   "id": "3a68d47c",
   "metadata": {},
   "outputs": [],
   "source": [
    "#otra sintaxis diferente PERO HACE LO MISMO\n",
    "productos2 = soup.find_all(name = \"h3\", class_=\"h3 product-title\")"
   ]
  },
  {
   "cell_type": "code",
   "execution_count": 449,
   "id": "aeef50ec",
   "metadata": {},
   "outputs": [],
   "source": [
    "#productos2"
   ]
  },
  {
   "cell_type": "markdown",
   "id": "247aeb46",
   "metadata": {},
   "source": [
    "Sacamos los precios rebajados de las zapatillas: "
   ]
  },
  {
   "cell_type": "code",
   "execution_count": 450,
   "id": "35ad6a5f",
   "metadata": {},
   "outputs": [],
   "source": [
    "#lista de precios\n",
    "precios = soup.findAll(\"span\", {\"class\": \"price\"})"
   ]
  },
  {
   "cell_type": "code",
   "execution_count": 451,
   "id": "ac0ad481",
   "metadata": {},
   "outputs": [],
   "source": [
    "#precios"
   ]
  },
  {
   "cell_type": "code",
   "execution_count": 452,
   "id": "a6f08271",
   "metadata": {},
   "outputs": [
    {
     "data": {
      "text/plain": [
       "<span class=\"price\"><span class=\"soy_price_principal\">51</span><span class=\"soy_price_separador\">,</span><span class=\"soy_price_secondary\">00 €</span></span>"
      ]
     },
     "execution_count": 452,
     "metadata": {},
     "output_type": "execute_result"
    }
   ],
   "source": [
    "precios[0]"
   ]
  },
  {
   "cell_type": "code",
   "execution_count": 453,
   "id": "fb57a09b",
   "metadata": {},
   "outputs": [
    {
     "data": {
      "text/plain": [
       "'51,00\\xa0€'"
      ]
     },
     "execution_count": 453,
     "metadata": {},
     "output_type": "execute_result"
    }
   ],
   "source": [
    "precios[0].getText()"
   ]
  },
  {
   "cell_type": "code",
   "execution_count": 454,
   "id": "c961b150",
   "metadata": {},
   "outputs": [],
   "source": [
    "# limpiamos los resultados: \n",
    "\n",
    "patron = '\\d+,\\d+'\n",
    "\n",
    "for precio in precios:\n",
    "    resultados_zapatillas[\"precio_rebajado\"].append(re.findall(patron, precio.getText())[0])"
   ]
  },
  {
   "cell_type": "code",
   "execution_count": 455,
   "id": "3bb4d63d",
   "metadata": {},
   "outputs": [
    {
     "data": {
      "text/plain": [
       "['51,00', '63,75']"
      ]
     },
     "execution_count": 455,
     "metadata": {},
     "output_type": "execute_result"
    }
   ],
   "source": [
    "resultados_zapatillas[\"precio_rebajado\"][:2]"
   ]
  },
  {
   "cell_type": "markdown",
   "id": "336e01d5",
   "metadata": {},
   "source": [
    "Podemos hacer lo mismo pero usando el método `select`"
   ]
  },
  {
   "cell_type": "code",
   "execution_count": 456,
   "id": "c64b21c5",
   "metadata": {},
   "outputs": [],
   "source": [
    "prueba = soup.select(\"span.price\") "
   ]
  },
  {
   "cell_type": "code",
   "execution_count": 457,
   "id": "4871ca9e",
   "metadata": {},
   "outputs": [
    {
     "data": {
      "text/plain": [
       "<span class=\"price\"><span class=\"soy_price_principal\">51</span><span class=\"soy_price_separador\">,</span><span class=\"soy_price_secondary\">00 €</span></span>"
      ]
     },
     "execution_count": 457,
     "metadata": {},
     "output_type": "execute_result"
    }
   ],
   "source": [
    "prueba[0]"
   ]
  },
  {
   "cell_type": "markdown",
   "id": "5dfa1cb7",
   "metadata": {},
   "source": [
    "Saquemos ahora los precios originales usando el select: "
   ]
  },
  {
   "cell_type": "code",
   "execution_count": 458,
   "id": "0f027c40",
   "metadata": {},
   "outputs": [],
   "source": [
    "precios_originales = soup.select(\"span.regular-price\")"
   ]
  },
  {
   "cell_type": "code",
   "execution_count": 459,
   "id": "0734d583",
   "metadata": {},
   "outputs": [
    {
     "data": {
      "text/plain": [
       "[<span class=\"regular-price\"><span class=\"soy_price_principal\">60</span><span class=\"soy_price_separador\">,</span><span class=\"soy_price_secondary\">00 €</span></span>,\n",
       " <span class=\"regular-price\"><span class=\"soy_price_principal\">75</span><span class=\"soy_price_separador\">,</span><span class=\"soy_price_secondary\">00 €</span></span>]"
      ]
     },
     "execution_count": 459,
     "metadata": {},
     "output_type": "execute_result"
    }
   ],
   "source": [
    "precios_originales[:2]"
   ]
  },
  {
   "cell_type": "code",
   "execution_count": 460,
   "id": "6d4005cc",
   "metadata": {},
   "outputs": [],
   "source": [
    "for precio in precios_originales:\n",
    "    resultados_zapatillas[\"precio_original\"].append(re.findall(patron, precio.getText())[0])"
   ]
  },
  {
   "cell_type": "code",
   "execution_count": 461,
   "id": "fb13a8f6",
   "metadata": {},
   "outputs": [
    {
     "data": {
      "text/plain": [
       "['60,00', '75,00']"
      ]
     },
     "execution_count": 461,
     "metadata": {},
     "output_type": "execute_result"
    }
   ],
   "source": [
    "resultados_zapatillas[\"precio_original\"][:2]"
   ]
  },
  {
   "cell_type": "markdown",
   "id": "d9c7db4f",
   "metadata": {},
   "source": [
    "Sacamos los enlaces de cada una de las zapatillas: "
   ]
  },
  {
   "cell_type": "code",
   "execution_count": 464,
   "id": "533d259e",
   "metadata": {},
   "outputs": [],
   "source": [
    "enlaces = soup.find_all(\"div\", {\"class\":\"thumbnail-container\"})"
   ]
  },
  {
   "cell_type": "code",
   "execution_count": 465,
   "id": "74695c1a",
   "metadata": {},
   "outputs": [
    {
     "data": {
      "text/plain": [
       "<div class=\"thumbnail-container\"><a class=\"thumbnail product-thumbnail\" href=\"https://deportesmoya.es/zapatillas-baloncesto-adidas-deep-threat-primeblue-negro-jr-118983.html#/3533-tallaje_calzado_junior-36_2_3\"><img alt=\"Zapatillas baloncesto...\" data-full-size-image-url=\"https://deportesmoya.es/122877-large_default/zapatillas-baloncesto-adidas-deep-threat-primeblue-negro-jr.jpg\" src=\"https://deportesmoya.es/122877-home_default/zapatillas-baloncesto-adidas-deep-threat-primeblue-negro-jr.jpg\"/></a><div class=\"product-description\"><h3 class=\"h3 product-title\"><a href=\"https://deportesmoya.es/zapatillas-baloncesto-adidas-deep-threat-primeblue-negro-jr-118983.html#/3533-tallaje_calzado_junior-36_2_3\">Zapatillas baloncesto adidas Deep Threat Primeblue negro jr</a></h3><div class=\"product-price-and-shipping\"><span class=\"sr-only\">Precio</span><span class=\"price\"><span class=\"soy_price_principal\">51</span><span class=\"soy_price_separador\">,</span><span class=\"soy_price_secondary\">00 €</span></span><span class=\"sr-only\">Precio normal</span><span class=\"regular-price\"><span class=\"soy_price_principal\">60</span><span class=\"soy_price_separador\">,</span><span class=\"soy_price_secondary\">00 €</span></span><span class=\"discount-percentage discount-product\">-15%</span></div> <div class=\"wishlist\">\n",
       "<a class=\"addToWishlist wishlistProd_118983\" href=\"#\" onclick=\"WishlistCart('wishlist_block_list', 'add', '118983', $('#idCombination').val(), 1);\n",
       "                return false;\" rel=\"118983\">\n",
       "<img src=\"https://deportesmoya.es/themes/deportes_moya/assets/img/favoritos.png\">\n",
       "<i class=\"soyFont-wishlist2\"></i>\n",
       "</img></a>\n",
       "</div>\n",
       "<div class=\"wishlist_added_118983\" style=\"display: none;\">\n",
       "<i class=\"material-icons\">cancel</i> El producto ha sido añadido a su lista de deseos correctamente.\n",
       "</div>\n",
       "</div><ul class=\"product-flags\"><li class=\"product-flag discount\">-15%</li></ul><div class=\"highlighted-informations no-variants hidden-sm-down\"><form action=\"https://deportesmoya.es/carrito\" id=\"add-to-cart-or-refresh\" method=\"post\"><input name=\"token\" type=\"hidden\" value=\"c5147e2d498ca3d79f09b977da152532\"/><input id=\"product_page_product_id\" name=\"id_product\" type=\"hidden\" value=\"118983\"/><div class=\"product-add-to-cart\">\n",
       "<span class=\"control-label\">Cantidad</span>\n",
       "<div class=\"product-quantity clearfix\">\n",
       "<div class=\"qty\">\n",
       "<input aria-label=\"Cantidad\" class=\"input-group\" id=\"quantity_wanted\" min=\"1\" name=\"qty\" type=\"number\" value=\"1\"/>\n",
       "</div>\n",
       "<div class=\"add\">\n",
       "<button class=\"btn btn-primary add-to-cart\" data-button-action=\"add-to-cart\" disabled=\"\" type=\"submit\">\n",
       "<span class=\"hidden-md-down\">Añadir a la cesta</span>\n",
       "<span class=\"hidden-lg-up\">Añadir a la cesta</span>\n",
       "</button>\n",
       "</div>\n",
       "<div class=\"wishlist\">\n",
       "<a class=\"addToWishlist wishlistProd_118983\" href=\"#\" onclick=\"WishlistCart('wishlist_block_list', 'add', '118983', $('#idCombination').val(), 1);\n",
       "                return false;\" rel=\"118983\">\n",
       "<img src=\"https://deportesmoya.es/themes/deportes_moya/assets/img/favoritos.png\">\n",
       "<i class=\"soyFont-wishlist2\"></i>\n",
       "</img></a>\n",
       "</div>\n",
       "<div class=\"wishlist_added_118983\" style=\"display: none;\">\n",
       "<i class=\"material-icons\">cancel</i> El producto ha sido añadido a su lista de deseos correctamente.\n",
       "</div>\n",
       "<a class=\"soy_guia_tallas hidden-md-down\" href=\"https://deportesmoya.es/content/7-guia-de-tallas\" target=\"_blank\">Guía de tallas</a>\n",
       "</div>\n",
       "<!-- PRODUCTO AVILABILITY -->\n",
       "<!-- /PRODUCTO AVILABILITY -->\n",
       "<p class=\"product-minimal-quantity\">\n",
       "</p>\n",
       "</div>\n",
       "</form></div></div>"
      ]
     },
     "execution_count": 465,
     "metadata": {},
     "output_type": "execute_result"
    }
   ],
   "source": [
    "enlaces[0]"
   ]
  },
  {
   "cell_type": "code",
   "execution_count": 466,
   "id": "6bf1a8cf",
   "metadata": {},
   "outputs": [
    {
     "data": {
      "text/plain": [
       "'https://deportesmoya.es/zapatillas-baloncesto-adidas-deep-threat-primeblue-negro-jr-118983.html#/3533-tallaje_calzado_junior-36_2_3'"
      ]
     },
     "execution_count": 466,
     "metadata": {},
     "output_type": "execute_result"
    }
   ],
   "source": [
    "# ahra\n",
    "enlaces[0].find(\"a\").get(\"href\")"
   ]
  },
  {
   "cell_type": "code",
   "execution_count": 467,
   "id": "9b5590a0",
   "metadata": {},
   "outputs": [],
   "source": [
    "for enlace in enlaces: \n",
    "    resultados_zapatillas[\"enlaces\"].append(enlace.find(\"a\").get(\"href\"))"
   ]
  },
  {
   "cell_type": "code",
   "execution_count": 468,
   "id": "4d210a31",
   "metadata": {},
   "outputs": [
    {
     "data": {
      "text/plain": [
       "['https://deportesmoya.es/zapatillas-baloncesto-adidas-deep-threat-primeblue-negro-jr-118983.html#/3533-tallaje_calzado_junior-36_2_3',\n",
       " 'https://deportesmoya.es/zapatillas-baloncesto-adidas-harden-stepback-2-lima-negro-119110.html#/3524-tallaje_calzado_junior-355',\n",
       " 'https://deportesmoya.es/zapatillas-baloncesto-adidas-harden-stepback-2-blanco-negro-119109.html#/3498-tallaje_calzado_junior-31',\n",
       " 'https://deportesmoya.es/zapatillas-baloncesto-adidas-ownthegame-20-negro-blanco-jr-118930.html#/3491-tallaje_calzado_junior-30']"
      ]
     },
     "execution_count": 468,
     "metadata": {},
     "output_type": "execute_result"
    }
   ],
   "source": [
    "resultados_zapatillas[\"enlaces\"][:4]"
   ]
  },
  {
   "cell_type": "markdown",
   "id": "309a65a1",
   "metadata": {},
   "source": [
    "Por último, sacamos el descuento de cada una de ellas: "
   ]
  },
  {
   "cell_type": "code",
   "execution_count": 470,
   "id": "ddc7b2bd",
   "metadata": {},
   "outputs": [
    {
     "data": {
      "text/plain": [
       "[<li class=\"product-flag discount\">-15%</li>,\n",
       " <li class=\"product-flag discount\">-15%</li>]"
      ]
     },
     "execution_count": 470,
     "metadata": {},
     "output_type": "execute_result"
    }
   ],
   "source": [
    "descuentos = soup.find_all(\"li\", {\"class\": \"product-flag discount\"})\n",
    "descuentos[:2]"
   ]
  },
  {
   "cell_type": "code",
   "execution_count": 471,
   "id": "bdd9bc84",
   "metadata": {},
   "outputs": [],
   "source": [
    "for desc in descuentos: \n",
    "    resultados_zapatillas[\"descuento\"].append(desc.getText())"
   ]
  },
  {
   "cell_type": "code",
   "execution_count": 472,
   "id": "3dc0e366",
   "metadata": {},
   "outputs": [
    {
     "data": {
      "text/plain": [
       "['-15%', '-15%']"
      ]
     },
     "execution_count": 472,
     "metadata": {},
     "output_type": "execute_result"
    }
   ],
   "source": [
    "resultados_zapatillas[\"descuento\"][:2]"
   ]
  },
  {
   "cell_type": "code",
   "execution_count": 473,
   "id": "9ac42215",
   "metadata": {},
   "outputs": [
    {
     "data": {
      "text/html": [
       "<div>\n",
       "<style scoped>\n",
       "    .dataframe tbody tr th:only-of-type {\n",
       "        vertical-align: middle;\n",
       "    }\n",
       "\n",
       "    .dataframe tbody tr th {\n",
       "        vertical-align: top;\n",
       "    }\n",
       "\n",
       "    .dataframe thead th {\n",
       "        text-align: right;\n",
       "    }\n",
       "</style>\n",
       "<table border=\"1\" class=\"dataframe\">\n",
       "  <thead>\n",
       "    <tr style=\"text-align: right;\">\n",
       "      <th></th>\n",
       "      <th>producto</th>\n",
       "      <th>precio_rebajado</th>\n",
       "      <th>precio_original</th>\n",
       "      <th>descuento</th>\n",
       "      <th>enlaces</th>\n",
       "    </tr>\n",
       "  </thead>\n",
       "  <tbody>\n",
       "    <tr>\n",
       "      <th>0</th>\n",
       "      <td>Zapatillas baloncesto adidas Deep Threat Prime...</td>\n",
       "      <td>51,00</td>\n",
       "      <td>60,00</td>\n",
       "      <td>-15%</td>\n",
       "      <td>https://deportesmoya.es/zapatillas-baloncesto-...</td>\n",
       "    </tr>\n",
       "    <tr>\n",
       "      <th>1</th>\n",
       "      <td>Zapatillas baloncesto adidas Harden Stepback 2...</td>\n",
       "      <td>63,75</td>\n",
       "      <td>75,00</td>\n",
       "      <td>-15%</td>\n",
       "      <td>https://deportesmoya.es/zapatillas-baloncesto-...</td>\n",
       "    </tr>\n",
       "  </tbody>\n",
       "</table>\n",
       "</div>"
      ],
      "text/plain": [
       "                                            producto precio_rebajado  \\\n",
       "0  Zapatillas baloncesto adidas Deep Threat Prime...           51,00   \n",
       "1  Zapatillas baloncesto adidas Harden Stepback 2...           63,75   \n",
       "\n",
       "  precio_original descuento                                            enlaces  \n",
       "0           60,00      -15%  https://deportesmoya.es/zapatillas-baloncesto-...  \n",
       "1           75,00      -15%  https://deportesmoya.es/zapatillas-baloncesto-...  "
      ]
     },
     "execution_count": 473,
     "metadata": {},
     "output_type": "execute_result"
    }
   ],
   "source": [
    "# lo convertimos a dataframe \n",
    "\n",
    "df_zapatillas = pd.DataFrame(resultados_zapatillas)\n",
    "df_zapatillas.head(2)"
   ]
  },
  {
   "cell_type": "markdown",
   "id": "05db7d6b",
   "metadata": {},
   "source": [
    "## Ejemplo 2:  wikipedia medallero"
   ]
  },
  {
   "cell_type": "code",
   "execution_count": 474,
   "id": "59df61ca",
   "metadata": {},
   "outputs": [],
   "source": [
    "url_medallero='https://es.wikipedia.org/wiki/Juegos_Ol%C3%ADmpicos_de_Barcelona_1992'\n",
    "html_medallero = requests.get(url_medallero)"
   ]
  },
  {
   "cell_type": "code",
   "execution_count": 475,
   "id": "9931dd30",
   "metadata": {},
   "outputs": [],
   "source": [
    "# Busco todo lo que tenga la etiqueta \"a\" y como findall me devuelve una lista, me quedo con el primer elemento\n",
    "medallero = soup_med.findAll(\"table\")[-4]"
   ]
  },
  {
   "cell_type": "code",
   "execution_count": 476,
   "id": "32eb2707",
   "metadata": {},
   "outputs": [],
   "source": [
    "#medallero"
   ]
  },
  {
   "cell_type": "code",
   "execution_count": 477,
   "id": "ff842500",
   "metadata": {},
   "outputs": [
    {
     "data": {
      "text/plain": [
       "11"
      ]
     },
     "execution_count": 477,
     "metadata": {},
     "output_type": "execute_result"
    }
   ],
   "source": [
    "# con esto sacamos todas las filas de nuestra tabla\n",
    "\n",
    "len(medallero.findAll(\"tr\"))"
   ]
  },
  {
   "cell_type": "code",
   "execution_count": 478,
   "id": "35a0594c",
   "metadata": {},
   "outputs": [
    {
     "data": {
      "text/plain": [
       "<tr>\n",
       "<td>10</td>\n",
       "<td align=\"left\"><img alt=\"Australia\" class=\"thumbborder\" data-file-height=\"640\" data-file-width=\"1280\" decoding=\"async\" height=\"11\" src=\"//upload.wikimedia.org/wikipedia/commons/thumb/b/b9/Flag_of_Australia.svg/22px-Flag_of_Australia.svg.png\" srcset=\"//upload.wikimedia.org/wikipedia/commons/thumb/b/b9/Flag_of_Australia.svg/33px-Flag_of_Australia.svg.png 1.5x, //upload.wikimedia.org/wikipedia/commons/thumb/b/b9/Flag_of_Australia.svg/44px-Flag_of_Australia.svg.png 2x\" width=\"22\"/> <a href=\"/wiki/Australia_en_los_Juegos_Ol%C3%ADmpicos_de_Barcelona_1992\" title=\"Australia en los Juegos Olímpicos de Barcelona 1992\">Australia </a> <small>(AUS)</small></td>\n",
       "<td>7</td>\n",
       "<td>9</td>\n",
       "<td>11</td>\n",
       "<td>27\n",
       "</td></tr>"
      ]
     },
     "execution_count": 478,
     "metadata": {},
     "output_type": "execute_result"
    }
   ],
   "source": [
    "medallero.findAll(\"tr\")[10]"
   ]
  },
  {
   "cell_type": "markdown",
   "id": "05ef3887",
   "metadata": {},
   "source": [
    "Ahora es el momento de sacar las filas (lo haremos con `td`): "
   ]
  },
  {
   "cell_type": "code",
   "execution_count": 479,
   "id": "0ef7e649",
   "metadata": {
    "scrolled": true
   },
   "outputs": [
    {
     "data": {
      "text/plain": [
       "<td>1</td>"
      ]
     },
     "execution_count": 479,
     "metadata": {},
     "output_type": "execute_result"
    }
   ],
   "source": [
    "medallero.findAll(\"tr\")[1].findAll(\"td\")[0]"
   ]
  },
  {
   "cell_type": "code",
   "execution_count": 480,
   "id": "5989139c",
   "metadata": {},
   "outputs": [
    {
     "data": {
      "text/plain": [
       "<td align=\"left\"><img alt=\"Equipo Unificado\" class=\"thumbborder\" data-file-height=\"600\" data-file-width=\"900\" decoding=\"async\" height=\"15\" src=\"//upload.wikimedia.org/wikipedia/commons/thumb/a/a7/Olympic_flag.svg/22px-Olympic_flag.svg.png\" srcset=\"//upload.wikimedia.org/wikipedia/commons/thumb/a/a7/Olympic_flag.svg/33px-Olympic_flag.svg.png 1.5x, //upload.wikimedia.org/wikipedia/commons/thumb/a/a7/Olympic_flag.svg/44px-Olympic_flag.svg.png 2x\" width=\"22\"/> <a href=\"/wiki/Equipo_Unificado_en_los_Juegos_Ol%C3%ADmpicos_de_Barcelona_1992\" title=\"Equipo Unificado en los Juegos Olímpicos de Barcelona 1992\">Equipo Unificado </a> <small>(EUN)</small></td>"
      ]
     },
     "execution_count": 480,
     "metadata": {},
     "output_type": "execute_result"
    }
   ],
   "source": [
    "# sacamos fila 2 columna 2\n",
    "medallero.findAll(\"tr\")[1].findAll(\"td\")[1]"
   ]
  },
  {
   "cell_type": "code",
   "execution_count": 481,
   "id": "39a45410",
   "metadata": {},
   "outputs": [
    {
     "data": {
      "text/plain": [
       "'Equipo Unificado'"
      ]
     },
     "execution_count": 481,
     "metadata": {},
     "output_type": "execute_result"
    }
   ],
   "source": [
    "# sacamos el texto de ese elemento \n",
    "medallero.findAll(\"tr\")[1].findAll(\"td\")[1].find(\"a\").getText().strip()"
   ]
  },
  {
   "cell_type": "code",
   "execution_count": 482,
   "id": "ead81aaf",
   "metadata": {},
   "outputs": [
    {
     "data": {
      "text/plain": [
       "'45'"
      ]
     },
     "execution_count": 482,
     "metadata": {},
     "output_type": "execute_result"
    }
   ],
   "source": [
    "# saquemos la fila 2 columna 3\n",
    "medallero.findAll(\"tr\")[1].findAll(\"td\")[2].getText()"
   ]
  },
  {
   "cell_type": "markdown",
   "id": "e82dea42",
   "metadata": {},
   "source": [
    "Esto puede ser un dolor si lo hacemos uno a uno. Intentemos hacer un for loop para hacerlo todo del tirón: "
   ]
  },
  {
   "cell_type": "code",
   "execution_count": 483,
   "id": "67d69eb2",
   "metadata": {},
   "outputs": [],
   "source": [
    "# lo primero que haremos será crear un diccionario donde \n",
    "diccionario2 = {\"nombre\":[],\n",
    "                      \"oro\": [],\n",
    "                      \"plata\": [],\n",
    "                      \"bronce\":[]}"
   ]
  },
  {
   "cell_type": "code",
   "execution_count": 484,
   "id": "510eca7d",
   "metadata": {},
   "outputs": [],
   "source": [
    "for f in medallero.find_all(\"tr\"): # sacamos todas las filas de la tabla\n",
    "    fila = [elemento for elemento in f.find_all(\"td\")] # sacamos las columnas\n",
    "    if len(fila) > 1:\n",
    "        diccionario2[\"nombre\"].append(fila[1].find(\"a\").getText().strip())\n",
    "        diccionario2[\"oro\"].append(int(fila[2].text))\n",
    "        diccionario2[\"plata\"].append(int(fila[3].text))\n",
    "        diccionario2[\"bronce\"].append(int(fila[4].text))\n",
    "        "
   ]
  },
  {
   "cell_type": "code",
   "execution_count": 485,
   "id": "d6fb82eb",
   "metadata": {},
   "outputs": [
    {
     "data": {
      "text/plain": [
       "{'nombre': ['Equipo Unificado',\n",
       "  'Estados Unidos',\n",
       "  'Alemania',\n",
       "  'China',\n",
       "  'Cuba',\n",
       "  'España',\n",
       "  'Corea del Sur',\n",
       "  'Hungría',\n",
       "  'Francia',\n",
       "  'Australia'],\n",
       " 'oro': [45, 37, 33, 16, 14, 13, 12, 11, 8, 7],\n",
       " 'plata': [38, 34, 21, 22, 6, 7, 5, 12, 5, 9],\n",
       " 'bronce': [29, 37, 28, 16, 11, 2, 12, 7, 16, 11]}"
      ]
     },
     "execution_count": 485,
     "metadata": {},
     "output_type": "execute_result"
    }
   ],
   "source": [
    "diccionario2"
   ]
  },
  {
   "cell_type": "code",
   "execution_count": 486,
   "id": "d1335014",
   "metadata": {},
   "outputs": [],
   "source": [
    "data_total = pd.DataFrame(diccionario2)"
   ]
  },
  {
   "cell_type": "code",
   "execution_count": 487,
   "id": "17cdc638",
   "metadata": {},
   "outputs": [
    {
     "data": {
      "text/html": [
       "<div>\n",
       "<style scoped>\n",
       "    .dataframe tbody tr th:only-of-type {\n",
       "        vertical-align: middle;\n",
       "    }\n",
       "\n",
       "    .dataframe tbody tr th {\n",
       "        vertical-align: top;\n",
       "    }\n",
       "\n",
       "    .dataframe thead th {\n",
       "        text-align: right;\n",
       "    }\n",
       "</style>\n",
       "<table border=\"1\" class=\"dataframe\">\n",
       "  <thead>\n",
       "    <tr style=\"text-align: right;\">\n",
       "      <th></th>\n",
       "      <th>nombre</th>\n",
       "      <th>oro</th>\n",
       "      <th>plata</th>\n",
       "      <th>bronce</th>\n",
       "    </tr>\n",
       "  </thead>\n",
       "  <tbody>\n",
       "    <tr>\n",
       "      <th>0</th>\n",
       "      <td>Equipo Unificado</td>\n",
       "      <td>45</td>\n",
       "      <td>38</td>\n",
       "      <td>29</td>\n",
       "    </tr>\n",
       "    <tr>\n",
       "      <th>1</th>\n",
       "      <td>Estados Unidos</td>\n",
       "      <td>37</td>\n",
       "      <td>34</td>\n",
       "      <td>37</td>\n",
       "    </tr>\n",
       "    <tr>\n",
       "      <th>2</th>\n",
       "      <td>Alemania</td>\n",
       "      <td>33</td>\n",
       "      <td>21</td>\n",
       "      <td>28</td>\n",
       "    </tr>\n",
       "    <tr>\n",
       "      <th>3</th>\n",
       "      <td>China</td>\n",
       "      <td>16</td>\n",
       "      <td>22</td>\n",
       "      <td>16</td>\n",
       "    </tr>\n",
       "    <tr>\n",
       "      <th>4</th>\n",
       "      <td>Cuba</td>\n",
       "      <td>14</td>\n",
       "      <td>6</td>\n",
       "      <td>11</td>\n",
       "    </tr>\n",
       "  </tbody>\n",
       "</table>\n",
       "</div>"
      ],
      "text/plain": [
       "             nombre  oro  plata  bronce\n",
       "0  Equipo Unificado   45     38      29\n",
       "1    Estados Unidos   37     34      37\n",
       "2          Alemania   33     21      28\n",
       "3             China   16     22      16\n",
       "4              Cuba   14      6      11"
      ]
     },
     "execution_count": 487,
     "metadata": {},
     "output_type": "execute_result"
    }
   ],
   "source": [
    "data_total.head()"
   ]
  },
  {
   "cell_type": "code",
   "execution_count": null,
   "id": "3586556a",
   "metadata": {},
   "outputs": [],
   "source": []
  },
  {
   "cell_type": "code",
   "execution_count": null,
   "id": "b36b7711",
   "metadata": {},
   "outputs": [],
   "source": []
  }
 ],
 "metadata": {
  "kernelspec": {
   "display_name": "ironhack",
   "language": "python",
   "name": "ironhack"
  },
  "language_info": {
   "codemirror_mode": {
    "name": "ipython",
    "version": 3
   },
   "file_extension": ".py",
   "mimetype": "text/x-python",
   "name": "python",
   "nbconvert_exporter": "python",
   "pygments_lexer": "ipython3",
   "version": "3.8.5"
  },
  "toc": {
   "base_numbering": 1,
   "nav_menu": {},
   "number_sections": true,
   "sideBar": true,
   "skip_h1_title": true,
   "title_cell": "Table of Contents",
   "title_sidebar": "Contents",
   "toc_cell": true,
   "toc_position": {},
   "toc_section_display": true,
   "toc_window_display": false
  }
 },
 "nbformat": 4,
 "nbformat_minor": 5
}
